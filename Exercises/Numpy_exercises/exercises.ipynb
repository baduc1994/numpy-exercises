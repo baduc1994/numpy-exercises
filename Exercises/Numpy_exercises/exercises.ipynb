{
 "cells": [
  {
   "cell_type": "code",
   "execution_count": 2,
   "metadata": {},
   "outputs": [],
   "source": [
    "import numpy as np"
   ]
  },
  {
   "attachments": {},
   "cell_type": "markdown",
   "metadata": {},
   "source": [
    "# Exercise 1: Thao tác cơ bản"
   ]
  },
  {
   "attachments": {},
   "cell_type": "markdown",
   "metadata": {},
   "source": [
    "- Tạo mảng 1 chiều $x$ gồm n số thực\n",
    "- Chọn 3 hàm số tuỳ ý $f_1(x)$, $f_2(x)$, $f_3(x)$. Tạo 3 mảng bằng cách truyền $x$ vào trong 3 hàm số.\n",
    "- Ghép bốn mảng một chiều thành một mảng hai chiều kích thước $n\\times4$"
   ]
  },
  {
   "cell_type": "code",
   "execution_count": 3,
   "metadata": {},
   "outputs": [
    {
     "name": "stdout",
     "output_type": "stream",
     "text": [
      "[6 1 3 2 7 7 9 7 4 4]\n",
      "[26 11 17 14 29 29 35 29 20 20]\n",
      "[13  3  7  5 15 15 19 15  9  9]\n",
      "[51 16 30 23 58 58 72 58 37 37]\n"
     ]
    }
   ],
   "source": [
    "x = np.random.randint(1,10, 10)\n",
    "\n",
    "y1 = 3 * x + 8\n",
    "y2 = 2 * x + 1\n",
    "y3 = 7 * x + 9\n",
    "print(x)\n",
    "print(y1)\n",
    "print(y2)\n",
    "print(y3)\n",
    "\n",
    "\n",
    "\n",
    "\n",
    "\n"
   ]
  },
  {
   "cell_type": "code",
   "execution_count": 4,
   "metadata": {},
   "outputs": [
    {
     "data": {
      "text/plain": [
       "array([ 6,  1,  3,  2,  7,  7,  9,  7,  4,  4, 26, 11, 17, 14, 29, 29, 35,\n",
       "       29, 20, 20])"
      ]
     },
     "execution_count": 4,
     "metadata": {},
     "output_type": "execute_result"
    }
   ],
   "source": [
    "a = np.concatenate((x,y1))\n",
    "a"
   ]
  },
  {
   "cell_type": "code",
   "execution_count": 5,
   "metadata": {},
   "outputs": [
    {
     "data": {
      "text/plain": [
       "array([13,  3,  7,  5, 15, 15, 19, 15,  9,  9, 51, 16, 30, 23, 58, 58, 72,\n",
       "       58, 37, 37])"
      ]
     },
     "execution_count": 5,
     "metadata": {},
     "output_type": "execute_result"
    }
   ],
   "source": [
    "b = np.concatenate((y2,y3))\n",
    "b"
   ]
  },
  {
   "cell_type": "code",
   "execution_count": 6,
   "metadata": {},
   "outputs": [
    {
     "name": "stdout",
     "output_type": "stream",
     "text": [
      "[[ 6  1  3  2  7  7  9  7  4  4 26 11 17 14 29 29 35 29 20 20]\n",
      " [13  3  7  5 15 15 19 15  9  9 51 16 30 23 58 58 72 58 37 37]]\n",
      "(2, 20)\n"
     ]
    }
   ],
   "source": [
    "c = np.vstack((a,b))\n",
    "print (c)\n",
    "print(c.shape)"
   ]
  },
  {
   "attachments": {},
   "cell_type": "markdown",
   "metadata": {},
   "source": [
    "## Bài tập 2: Thống kê cơ bản\n"
   ]
  },
  {
   "attachments": {},
   "cell_type": "markdown",
   "metadata": {},
   "source": [
    "- Tải dữ liệu file `heart_rate.txt` vào trong mảng `a`\n",
    "- Thực hiện mô tả thống kê với các biến `Time` và `Heart Rate`: Cỡ mẫu, trung bình, trung vị, độ lệch chuẩn, giá trị lớn nhất, nhỏ nhất, phần tư Q1, Q2 và Q3"
   ]
  },
  {
   "cell_type": "code",
   "execution_count": 7,
   "metadata": {},
   "outputs": [
    {
     "data": {
      "text/plain": [
       "array([[   0.,  103.],\n",
       "       [   5.,  103.],\n",
       "       [  10.,  103.],\n",
       "       [  15.,  105.],\n",
       "       [  20.,  108.],\n",
       "       [  25.,  110.],\n",
       "       [  30.,  110.],\n",
       "       [  35.,  112.],\n",
       "       [  40.,  112.],\n",
       "       [  45.,  114.],\n",
       "       [  50.,  114.],\n",
       "       [  55.,  117.],\n",
       "       [  60.,  117.],\n",
       "       [  65.,  118.],\n",
       "       [  70.,  119.],\n",
       "       [  75.,  119.],\n",
       "       [  80.,  120.],\n",
       "       [  85.,  121.],\n",
       "       [  90.,  121.],\n",
       "       [  95.,  122.],\n",
       "       [ 100.,  123.],\n",
       "       [ 105.,  124.],\n",
       "       [ 110.,  124.],\n",
       "       [ 115.,  125.],\n",
       "       [ 120.,  126.],\n",
       "       [ 125.,  127.],\n",
       "       [ 130.,  128.],\n",
       "       [ 135.,  127.],\n",
       "       [ 140.,  128.],\n",
       "       [ 145.,  128.],\n",
       "       [ 150.,  129.],\n",
       "       [ 155.,  129.],\n",
       "       [ 160.,  130.],\n",
       "       [ 165.,  131.],\n",
       "       [ 170.,  132.],\n",
       "       [ 175.,  132.],\n",
       "       [ 180.,  132.],\n",
       "       [ 185.,  133.],\n",
       "       [ 190.,  134.],\n",
       "       [ 195.,  135.],\n",
       "       [ 200.,  135.],\n",
       "       [ 205.,  135.],\n",
       "       [ 210.,  135.],\n",
       "       [ 215.,  136.],\n",
       "       [ 220.,  136.],\n",
       "       [ 225.,  136.],\n",
       "       [ 230.,  137.],\n",
       "       [ 235.,  137.],\n",
       "       [ 240.,  137.],\n",
       "       [ 245.,  137.],\n",
       "       [ 250.,  138.],\n",
       "       [ 255.,  138.],\n",
       "       [ 260.,  138.],\n",
       "       [ 265.,  138.],\n",
       "       [ 270.,  139.],\n",
       "       [ 275.,  138.],\n",
       "       [ 280.,  138.],\n",
       "       [ 285.,  138.],\n",
       "       [ 290.,  138.],\n",
       "       [ 295.,  138.],\n",
       "       [ 300.,  138.],\n",
       "       [ 305.,  138.],\n",
       "       [ 310.,  138.],\n",
       "       [ 315.,  139.],\n",
       "       [ 320.,  140.],\n",
       "       [ 325.,  141.],\n",
       "       [ 330.,  141.],\n",
       "       [ 335.,  141.],\n",
       "       [ 340.,  141.],\n",
       "       [ 345.,  142.],\n",
       "       [ 350.,  141.],\n",
       "       [ 355.,  142.],\n",
       "       [ 360.,  142.],\n",
       "       [ 365.,  143.],\n",
       "       [ 370.,  143.],\n",
       "       [ 375.,  143.],\n",
       "       [ 380.,  143.],\n",
       "       [ 385.,  144.],\n",
       "       [ 390.,  144.],\n",
       "       [ 395.,  144.],\n",
       "       [ 400.,  145.],\n",
       "       [ 405.,  144.],\n",
       "       [ 410.,  145.],\n",
       "       [ 415.,  144.],\n",
       "       [ 420.,  145.],\n",
       "       [ 425.,  145.],\n",
       "       [ 430.,  144.],\n",
       "       [ 435.,  144.],\n",
       "       [ 440.,  144.],\n",
       "       [ 445.,  144.],\n",
       "       [ 450.,  145.],\n",
       "       [ 455.,  144.],\n",
       "       [ 460.,  144.],\n",
       "       [ 465.,  144.],\n",
       "       [ 470.,  145.],\n",
       "       [ 475.,  145.],\n",
       "       [ 480.,  146.],\n",
       "       [ 485.,  147.],\n",
       "       [ 490.,  147.],\n",
       "       [ 495.,  147.],\n",
       "       [ 500.,  147.],\n",
       "       [ 505.,  147.],\n",
       "       [ 510.,  147.],\n",
       "       [ 515.,  147.],\n",
       "       [ 520.,  147.],\n",
       "       [ 525.,  147.],\n",
       "       [ 530.,  147.],\n",
       "       [ 535.,  147.],\n",
       "       [ 540.,  147.],\n",
       "       [ 545.,  147.],\n",
       "       [ 550.,  147.],\n",
       "       [ 555.,  147.],\n",
       "       [ 560.,  146.],\n",
       "       [ 565.,  147.],\n",
       "       [ 570.,  146.],\n",
       "       [ 575.,  146.],\n",
       "       [ 580.,  146.],\n",
       "       [ 585.,  146.],\n",
       "       [ 590.,  147.],\n",
       "       [ 595.,  147.],\n",
       "       [ 600.,  147.],\n",
       "       [ 605.,  148.],\n",
       "       [ 610.,  148.],\n",
       "       [ 615.,  148.],\n",
       "       [ 620.,  147.],\n",
       "       [ 625.,  147.],\n",
       "       [ 630.,  148.],\n",
       "       [ 635.,  148.],\n",
       "       [ 640.,  148.],\n",
       "       [ 645.,  148.],\n",
       "       [ 650.,  148.],\n",
       "       [ 655.,  148.],\n",
       "       [ 660.,  147.],\n",
       "       [ 665.,  148.],\n",
       "       [ 670.,  147.],\n",
       "       [ 675.,  148.],\n",
       "       [ 680.,  148.],\n",
       "       [ 685.,  149.],\n",
       "       [ 690.,  148.],\n",
       "       [ 695.,  148.],\n",
       "       [ 700.,  149.],\n",
       "       [ 705.,  149.],\n",
       "       [ 710.,  149.],\n",
       "       [ 715.,  149.],\n",
       "       [ 720.,  149.],\n",
       "       [ 725.,  149.],\n",
       "       [ 730.,  149.],\n",
       "       [ 735.,  150.],\n",
       "       [ 740.,  150.],\n",
       "       [ 745.,  150.],\n",
       "       [ 750.,  150.],\n",
       "       [ 755.,  150.],\n",
       "       [ 760.,  150.],\n",
       "       [ 765.,  150.],\n",
       "       [ 770.,  149.],\n",
       "       [ 775.,  149.],\n",
       "       [ 780.,  149.],\n",
       "       [ 785.,  149.],\n",
       "       [ 790.,  149.],\n",
       "       [ 795.,  149.],\n",
       "       [ 800.,  148.],\n",
       "       [ 805.,  149.],\n",
       "       [ 810.,  149.],\n",
       "       [ 815.,  149.],\n",
       "       [ 820.,  149.],\n",
       "       [ 825.,  149.],\n",
       "       [ 830.,  149.],\n",
       "       [ 835.,  149.],\n",
       "       [ 840.,  148.],\n",
       "       [ 845.,  148.],\n",
       "       [ 850.,  148.],\n",
       "       [ 855.,  149.],\n",
       "       [ 860.,  150.],\n",
       "       [ 865.,  151.],\n",
       "       [ 870.,  151.],\n",
       "       [ 875.,  151.],\n",
       "       [ 880.,  151.],\n",
       "       [ 885.,  150.],\n",
       "       [ 890.,  151.],\n",
       "       [ 895.,  151.],\n",
       "       [ 900.,  149.],\n",
       "       [ 905.,  147.],\n",
       "       [ 910.,  146.],\n",
       "       [ 915.,  147.],\n",
       "       [ 920.,  150.],\n",
       "       [ 925.,  152.],\n",
       "       [ 930.,  153.],\n",
       "       [ 935.,  153.],\n",
       "       [ 940.,  153.],\n",
       "       [ 945.,  152.],\n",
       "       [ 950.,  152.],\n",
       "       [ 955.,  151.],\n",
       "       [ 960.,  151.],\n",
       "       [ 965.,  152.],\n",
       "       [ 970.,  152.],\n",
       "       [ 975.,  151.],\n",
       "       [ 980.,  152.],\n",
       "       [ 985.,  152.],\n",
       "       [ 990.,  152.],\n",
       "       [ 995.,  153.],\n",
       "       [1000.,  153.],\n",
       "       [1005.,  153.],\n",
       "       [1010.,  153.],\n",
       "       [1015.,  152.],\n",
       "       [1020.,  152.],\n",
       "       [1025.,  152.],\n",
       "       [1030.,  152.],\n",
       "       [1035.,  152.],\n",
       "       [1040.,  152.],\n",
       "       [1045.,  153.],\n",
       "       [1050.,  152.],\n",
       "       [1055.,  152.],\n",
       "       [1060.,  153.],\n",
       "       [1065.,  153.],\n",
       "       [1070.,  153.],\n",
       "       [1075.,  153.],\n",
       "       [1080.,  152.],\n",
       "       [1085.,  152.],\n",
       "       [1090.,  151.],\n",
       "       [1095.,  152.],\n",
       "       [1100.,  152.],\n",
       "       [1105.,  152.],\n",
       "       [1110.,  153.],\n",
       "       [1115.,  153.],\n",
       "       [1120.,  153.],\n",
       "       [1125.,  153.],\n",
       "       [1130.,  153.],\n",
       "       [1135.,  153.],\n",
       "       [1140.,  153.],\n",
       "       [1145.,  153.],\n",
       "       [1150.,  153.],\n",
       "       [1155.,  152.],\n",
       "       [1160.,  152.],\n",
       "       [1165.,  152.],\n",
       "       [1170.,  152.],\n",
       "       [1175.,  153.],\n",
       "       [1180.,  153.],\n",
       "       [1185.,  154.],\n",
       "       [1190.,  154.],\n",
       "       [1195.,  154.],\n",
       "       [1200.,  154.]])"
      ]
     },
     "execution_count": 7,
     "metadata": {},
     "output_type": "execute_result"
    }
   ],
   "source": [
    "data = np.loadtxt('heart_rate.txt', delimiter=',', usecols=(0,1), skiprows=1, dtype='float')\n",
    "data"
   ]
  },
  {
   "cell_type": "code",
   "execution_count": 8,
   "metadata": {},
   "outputs": [],
   "source": [
    "t_data = data[:,0]\n",
    "h_data = data[:,1]"
   ]
  },
  {
   "cell_type": "code",
   "execution_count": 9,
   "metadata": {},
   "outputs": [
    {
     "name": "stdout",
     "output_type": "stream",
     "text": [
      "600.0\n",
      "142.98340248962654\n"
     ]
    }
   ],
   "source": [
    "# mean\n",
    "mean_time = np.mean(t_data)\n",
    "mean_heart_rate = np.mean(h_data)\n",
    "print(mean_time)\n",
    "print(mean_heart_rate)"
   ]
  },
  {
   "cell_type": "code",
   "execution_count": 10,
   "metadata": {},
   "outputs": [
    {
     "name": "stdout",
     "output_type": "stream",
     "text": [
      "600.0\n",
      "147.0\n"
     ]
    }
   ],
   "source": [
    "# median\n",
    "median_time = np.median(t_data)\n",
    "median_heart_rate = np.median(h_data)\n",
    "print(median_time)\n",
    "print(median_heart_rate)"
   ]
  },
  {
   "cell_type": "code",
   "execution_count": 11,
   "metadata": {},
   "outputs": [
    {
     "name": "stdout",
     "output_type": "stream",
     "text": [
      "347.85054261852173\n",
      "11.36346581057221\n"
     ]
    }
   ],
   "source": [
    "# Standard Deviation\n",
    "std_time = np.std(t_data)\n",
    "std_heart_rate = np.std(h_data)\n",
    "print(std_time)\n",
    "print(std_heart_rate)"
   ]
  },
  {
   "cell_type": "code",
   "execution_count": 12,
   "metadata": {},
   "outputs": [
    {
     "name": "stdout",
     "output_type": "stream",
     "text": [
      "Gia tri nho nhat : 0.0\n",
      "Gia tri lon nhat : 1200.0\n"
     ]
    }
   ],
   "source": [
    "# Min max with Time\n",
    "print('Gia tri nho nhat :', t_data.min())\n",
    "print('Gia tri lon nhat :', t_data.max())\n"
   ]
  },
  {
   "cell_type": "code",
   "execution_count": 13,
   "metadata": {},
   "outputs": [
    {
     "name": "stdout",
     "output_type": "stream",
     "text": [
      "Gia tri nho nhat : 103.0\n",
      "Gia tri lon nhat : 154.0\n"
     ]
    }
   ],
   "source": [
    "# Min max with Heart Rate\n",
    "print('Gia tri nho nhat :', h_data.min())\n",
    "print('Gia tri lon nhat :', h_data.max())"
   ]
  },
  {
   "cell_type": "code",
   "execution_count": 14,
   "metadata": {},
   "outputs": [
    {
     "name": "stdout",
     "output_type": "stream",
     "text": [
      "Q1 = :  300.0\n",
      "Q2 = :  600.0\n",
      "Q3 = :  900.0\n"
     ]
    }
   ],
   "source": [
    "# Quartiles\n",
    "#Time\n",
    "print(\"Q1 = : \", np.quantile(t_data, 0.25))\n",
    "print(\"Q2 = : \", np.quantile(t_data, 0.5))\n",
    "print(\"Q3 = : \", np.quantile(t_data, 0.75))"
   ]
  },
  {
   "cell_type": "code",
   "execution_count": 15,
   "metadata": {},
   "outputs": [
    {
     "name": "stdout",
     "output_type": "stream",
     "text": [
      "Q1 = :  138.0\n",
      "Q2 = :  147.0\n",
      "Q3 = :  151.0\n"
     ]
    }
   ],
   "source": [
    "# Heart Rate\n",
    "print(\"Q1 = : \", np.quantile(h_data, 0.25))\n",
    "print(\"Q2 = : \", np.quantile(h_data, 0.5))\n",
    "print(\"Q3 = : \", np.quantile(h_data, 0.75))"
   ]
  },
  {
   "attachments": {},
   "cell_type": "markdown",
   "metadata": {},
   "source": [
    "## Bài tập 3: Thao tác với mảng"
   ]
  },
  {
   "attachments": {},
   "cell_type": "markdown",
   "metadata": {},
   "source": [
    "- Tạo một mảng 2-chiều `a` cỡ $m\\times n$\n",
    "- Các phần tử hàng đầu tiên chạy từ `1` $\\longrightarrow$ `n`\n",
    "- Các phần tử cột đầu tiên nhận giá trị bằng `1`\n",
    "- Các phần tử cột cuối cùng nhận giá trị bằng `n`\n",
    "- Các phần tử còn lại tính theo mô tả sau\n",
    "  "
   ]
  },
  {
   "attachments": {},
   "cell_type": "markdown",
   "metadata": {},
   "source": [
    "![Phần tử hàng dưới bằng trung bình ba phần tử xung quanh ở hàng trên](image.png)"
   ]
  },
  {
   "cell_type": "code",
   "execution_count": 16,
   "metadata": {},
   "outputs": [
    {
     "data": {
      "text/plain": [
       "array([[1, 2, 3, 4, 5, 6],\n",
       "       [1, 1, 1, 1, 1, 6],\n",
       "       [1, 1, 1, 1, 1, 6],\n",
       "       [1, 1, 1, 1, 1, 6],\n",
       "       [1, 1, 1, 1, 1, 6]])"
      ]
     },
     "execution_count": 16,
     "metadata": {},
     "output_type": "execute_result"
    }
   ],
   "source": [
    "a = np.ones((5,6), dtype=int) \n",
    "a[:,0]=1\n",
    "a[:,-1]=6\n",
    "a[0,:] = np.arange(1,7)\n",
    "a\n"
   ]
  },
  {
   "cell_type": "code",
   "execution_count": 17,
   "metadata": {},
   "outputs": [
    {
     "data": {
      "text/plain": [
       "array([[1., 2., 3., 4., 5., 6., 7., 8., 9.],\n",
       "       [1., 2., 3., 4., 5., 6., 7., 8., 9.],\n",
       "       [1., 2., 3., 4., 5., 6., 7., 8., 9.],\n",
       "       [1., 2., 3., 4., 5., 6., 7., 8., 9.],\n",
       "       [1., 2., 3., 4., 5., 6., 7., 8., 9.],\n",
       "       [1., 2., 3., 4., 5., 6., 7., 8., 9.],\n",
       "       [1., 2., 3., 4., 5., 6., 7., 8., 9.],\n",
       "       [1., 2., 3., 4., 5., 6., 7., 8., 9.]])"
      ]
     },
     "execution_count": 17,
     "metadata": {},
     "output_type": "execute_result"
    }
   ],
   "source": [
    "def new_arr(m,n):\n",
    "    a = np.ones((m,n), dtype=float) \n",
    "    a[:,0]=1 # Các phần tử cột đầu tiên nhận giá trị bằng 1\n",
    "    a[:,-1]= n # Các phần tử cột cuối cùng nhận giá trị bằng n\n",
    "    a[0,:] = np.arange(1,n+1) # Các phần tử hàng đầu tiên chạy từ 1 -> n\n",
    "    \n",
    "    # trường hợp hàng đầu tiên là các số ngẫu nghiên\n",
    "    # a[0,1:-1] = np.random.randint(1,n, (1,n-2))   \n",
    "    for i in range(m-1):\n",
    "        for j in range (n-2):\n",
    "            a[i+1,j+1] = a[i,j:j+3].mean()\n",
    "    return a\n",
    "arr = new_arr(8,9)  \n",
    "arr         "
   ]
  }
 ],
 "metadata": {
  "kernelspec": {
   "display_name": "myvenv",
   "language": "python",
   "name": "python3"
  },
  "language_info": {
   "codemirror_mode": {
    "name": "ipython",
    "version": 3
   },
   "file_extension": ".py",
   "mimetype": "text/x-python",
   "name": "python",
   "nbconvert_exporter": "python",
   "pygments_lexer": "ipython3",
   "version": "3.11.3"
  },
  "orig_nbformat": 4
 },
 "nbformat": 4,
 "nbformat_minor": 2
}
